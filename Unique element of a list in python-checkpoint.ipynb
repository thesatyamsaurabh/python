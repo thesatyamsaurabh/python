{
 "cells": [
  {
   "cell_type": "code",
   "execution_count": 6,
   "id": "aaa0a66a",
   "metadata": {},
   "outputs": [
    {
     "name": "stdout",
     "output_type": "stream",
     "text": [
      "Number of elements5\n",
      "Enter your element\n",
      "1\n",
      "2\n",
      "1\n",
      "3\n",
      "5\n",
      "[1, 2, 1, 3, 5]\n",
      "Unique element are\n",
      "1\n"
     ]
    }
   ],
   "source": [
    "n=int(input(\"Number of elements\"))\n",
    "list=[]\n",
    "print('Enter your element')\n",
    "for i in range(n):\n",
    "    ele=int(input())\n",
    "    list.append(ele)\n",
    "print(list)\n",
    "list2=[]\n",
    "count=0\n",
    "for i in range(n):\n",
    "    for j in range(n):\n",
    "        if list[i]==list[j]:\n",
    "            count=count+1\n",
    "    if count==0:\n",
    "        list2.append(list[i])\n",
    "    count=0\n",
    "print(\"Unique element are\")\n",
    "print(list[2])\n"
   ]
  },
  {
   "cell_type": "code",
   "execution_count": null,
   "id": "e341a2ad",
   "metadata": {},
   "outputs": [],
   "source": []
  }
 ],
 "metadata": {
  "kernelspec": {
   "display_name": "Python 3 (ipykernel)",
   "language": "python",
   "name": "python3"
  },
  "language_info": {
   "codemirror_mode": {
    "name": "ipython",
    "version": 3
   },
   "file_extension": ".py",
   "mimetype": "text/x-python",
   "name": "python",
   "nbconvert_exporter": "python",
   "pygments_lexer": "ipython3",
   "version": "3.11.4"
  }
 },
 "nbformat": 4,
 "nbformat_minor": 5
}
