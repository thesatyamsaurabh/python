{
 "cells": [
  {
   "cell_type": "code",
   "execution_count": 5,
   "id": "5782ac73",
   "metadata": {
    "scrolled": true
   },
   "outputs": [
    {
     "name": "stdout",
     "output_type": "stream",
     "text": [
      "Enter which table you want19\n",
      "19\n",
      "38\n",
      "57\n",
      "76\n",
      "95\n",
      "114\n",
      "133\n",
      "152\n",
      "171\n",
      "190\n"
     ]
    }
   ],
   "source": [
    "n=int(input('Enter which table you want'))\n",
    "for i in range(n,n*10+1,n):\n",
    "    print(i)\n",
    "\n"
   ]
  },
  {
   "cell_type": "code",
   "execution_count": 18,
   "id": "d9c1ddab",
   "metadata": {},
   "outputs": [
    {
     "name": "stdout",
     "output_type": "stream",
     "text": [
      "Enter the number 121\n",
      "Palindrome\n"
     ]
    }
   ],
   "source": [
    "n=[]\n",
    "n=input('Enter the number ')\n",
    "l=len(n)\n",
    "for i in range(l//2):\n",
    "    \n",
    "    if n[i]!=n[-(i+1)]:\n",
    "        print('Not palindrome')\n",
    "        break;\n",
    "    else:\n",
    "        print('Palindrome')"
   ]
  },
  {
   "cell_type": "code",
   "execution_count": null,
   "id": "85d9d12b",
   "metadata": {},
   "outputs": [],
   "source": []
  }
 ],
 "metadata": {
  "kernelspec": {
   "display_name": "Python 3 (ipykernel)",
   "language": "python",
   "name": "python3"
  },
  "language_info": {
   "codemirror_mode": {
    "name": "ipython",
    "version": 3
   },
   "file_extension": ".py",
   "mimetype": "text/x-python",
   "name": "python",
   "nbconvert_exporter": "python",
   "pygments_lexer": "ipython3",
   "version": "3.11.4"
  }
 },
 "nbformat": 4,
 "nbformat_minor": 5
}
