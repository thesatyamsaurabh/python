{
 "cells": [
  {
   "cell_type": "code",
   "execution_count": 5,
   "id": "97b78944",
   "metadata": {
    "scrolled": true
   },
   "outputs": [
    {
     "name": "stdout",
     "output_type": "stream",
     "text": [
      "Enter which table you want19\n",
      "19\n",
      "38\n",
      "57\n",
      "76\n",
      "95\n",
      "114\n",
      "133\n",
      "152\n",
      "171\n",
      "190\n"
     ]
    }
   ],
   "source": [
    "n=int(input('Enter which table you want'))\n",
    "for i in range(n,n*10+1,n):\n",
    "    print(i)\n",
    "\n"
   ]
  },
  {
   "cell_type": "code",
   "execution_count": 24,
   "id": "f9c8197b",
   "metadata": {},
   "outputs": [
    {
     "name": "stdout",
     "output_type": "stream",
     "text": [
      "Enter the number 121\n",
      "Palindrome\n",
      "121\n"
     ]
    }
   ],
   "source": [
    "n=[]\n",
    "n=input('Enter the number ')\n",
    "l=len(n)\n",
    "for i in range(l//2):\n",
    "    \n",
    "    if n[i]!=n[-(i+1)]:\n",
    "        print('Not palindrome')\n",
    "        break;\n",
    "    else:\n",
    "        print('Palindrome')\n",
    "        break;\n",
    "print(n)"
   ]
  },
  {
   "cell_type": "code",
   "execution_count": 1,
   "id": "12e4e0ff",
   "metadata": {},
   "outputs": [
    {
     "name": "stdout",
     "output_type": "stream",
     "text": [
      "Enter number153\n",
      "27\n",
      "152\n",
      "153\n",
      "Armstrong Number\n"
     ]
    }
   ],
   "source": [
    "n=int(input('Enter number'))\n",
    "k=n\n",
    "c=0\n",
    "while k>0:\n",
    "    k=k//10\n",
    "    c=c+1\n",
    "k=n\n",
    "sum=0\n",
    "for i in range(c):\n",
    "    r=k%10\n",
    "    sum=r**c+sum\n",
    "    print(sum)\n",
    "    k=k//10\n",
    "if sum==n:\n",
    "    print('Armstrong Number')\n",
    "else:\n",
    "    print('Not Armstrong Number')\n",
    "\n",
    "\n",
    "    \n",
    "    \n"
   ]
  },
  {
   "cell_type": "code",
   "execution_count": null,
   "id": "8daef0d4",
   "metadata": {},
   "outputs": [],
   "source": []
  },
  {
   "cell_type": "code",
   "execution_count": null,
   "id": "8f234982",
   "metadata": {},
   "outputs": [],
   "source": []
  },
  {
   "cell_type": "code",
   "execution_count": null,
   "id": "4b502167",
   "metadata": {},
   "outputs": [],
   "source": []
  },
  {
   "cell_type": "code",
   "execution_count": null,
   "id": "8b632f7d",
   "metadata": {},
   "outputs": [],
   "source": []
  },
  {
   "cell_type": "code",
   "execution_count": null,
   "id": "20d3e5ba",
   "metadata": {},
   "outputs": [],
   "source": []
  }
 ],
 "metadata": {
  "kernelspec": {
   "display_name": "Python 3 (ipykernel)",
   "language": "python",
   "name": "python3"
  },
  "language_info": {
   "codemirror_mode": {
    "name": "ipython",
    "version": 3
   },
   "file_extension": ".py",
   "mimetype": "text/x-python",
   "name": "python",
   "nbconvert_exporter": "python",
   "pygments_lexer": "ipython3",
   "version": "3.11.4"
  }
 },
 "nbformat": 4,
 "nbformat_minor": 5
}
