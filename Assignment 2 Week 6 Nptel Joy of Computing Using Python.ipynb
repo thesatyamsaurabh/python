{
 "cells": [
  {
   "cell_type": "code",
   "execution_count": null,
   "id": "97bd3769",
   "metadata": {},
   "outputs": [],
   "source": [
    "S = input()\n",
    "import string\n",
    "\n",
    "\n",
    "low = string.ascii_lowercase\n",
    "cap = string.ascii_uppercase\n",
    "\n",
    "ans  = ''\n",
    "\n",
    "for i in S:\n",
    "    if i in low:\n",
    "        index = low.index(i)\n",
    "        # 1-2 = -1+26 = 25\n",
    "        index = ((index-2)+26)%26\n",
    "        ans+=low[index]\n",
    "    elif i in cap:\n",
    "        index = cap.index(i)\n",
    "        # 1-2 = -1+26 = 25\n",
    "        index = ((index-3)+26)%26\n",
    "        ans+=cap[index]\n",
    "    else:\n",
    "        ans+=i\n",
    "        \n",
    "print(ans)"
   ]
  }
 ],
 "metadata": {
  "kernelspec": {
   "display_name": "Python 3 (ipykernel)",
   "language": "python",
   "name": "python3"
  },
  "language_info": {
   "codemirror_mode": {
    "name": "ipython",
    "version": 3
   },
   "file_extension": ".py",
   "mimetype": "text/x-python",
   "name": "python",
   "nbconvert_exporter": "python",
   "pygments_lexer": "ipython3",
   "version": "3.11.4"
  }
 },
 "nbformat": 4,
 "nbformat_minor": 5
}
