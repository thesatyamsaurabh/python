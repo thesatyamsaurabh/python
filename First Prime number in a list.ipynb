{
 "cells": [
  {
   "cell_type": "code",
   "execution_count": 5,
   "id": "f566e763",
   "metadata": {},
   "outputs": [
    {
     "name": "stdout",
     "output_type": "stream",
     "text": [
      "Number of elements4\n",
      "Enter your element\n",
      "70\n",
      "-3\n",
      "182\n",
      "47\n",
      "[70, -3, 182, 47]\n",
      "First Prime number in a list is: 47\n"
     ]
    }
   ],
   "source": [
    "n=int(input(\"Number of elements\"))\n",
    "list=[]\n",
    "print('Enter your element')\n",
    "for i in range(n):\n",
    "    ele=int(input())\n",
    "    list.append(ele)\n",
    "print(list)\n",
    "for i in range(n):\n",
    "    count=0\n",
    "    r=list[i]\n",
    "    if r <= 1:\n",
    "        continue\n",
    "    else:\n",
    "        for j in range(2,r):\n",
    "            if r%j==0:\n",
    "                count+=1\n",
    "    if count==0:\n",
    "        print('First Prime number in a list is:',r)\n",
    "        break"
   ]
  },
  {
   "cell_type": "code",
   "execution_count": 16,
   "id": "5d9e1df2",
   "metadata": {},
   "outputs": [
    {
     "name": "stdout",
     "output_type": "stream",
     "text": [
      "3\n",
      "1 2 3\n",
      "(1, 2, 3, 1, 4, 9)\n"
     ]
    }
   ],
   "source": [
    "def squareT(T):\n",
    "    t1=list(T)\n",
    "    for x in T:\n",
    "        y=x*x\n",
    "        t1.append(y)\n",
    "    return tuple(t1)\n",
    "n = int(input())\n",
    "L = list(map(int, input().split()))\n",
    "T = tuple(L)\n",
    "ans = squareT(T)\n",
    "print(ans)"
   ]
  },
  {
   "cell_type": "code",
   "execution_count": null,
   "id": "2192f519",
   "metadata": {},
   "outputs": [],
   "source": []
  },
  {
   "cell_type": "code",
   "execution_count": null,
   "id": "8060b012",
   "metadata": {},
   "outputs": [],
   "source": []
  }
 ],
 "metadata": {
  "kernelspec": {
   "display_name": "Python 3 (ipykernel)",
   "language": "python",
   "name": "python3"
  },
  "language_info": {
   "codemirror_mode": {
    "name": "ipython",
    "version": 3
   },
   "file_extension": ".py",
   "mimetype": "text/x-python",
   "name": "python",
   "nbconvert_exporter": "python",
   "pygments_lexer": "ipython3",
   "version": "3.11.4"
  }
 },
 "nbformat": 4,
 "nbformat_minor": 5
}
