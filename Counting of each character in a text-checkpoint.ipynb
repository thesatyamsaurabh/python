{
 "cells": [
  {
   "cell_type": "code",
   "execution_count": 2,
   "id": "e02d21bc",
   "metadata": {},
   "outputs": [
    {
     "name": "stdout",
     "output_type": "stream",
     "text": [
      "Enter your text:the joy of computing using python\n",
      "{'s': 1, 'h': 2, 'u': 2, 'm': 1, 'f': 1, 'i': 2, 'o': 4, 'g': 2, 'n': 3, 'c': 1, 'p': 2, ' ': 5, 'j': 1, 'y': 2, 'e': 1, 't': 3}\n"
     ]
    }
   ],
   "source": [
    "text=input('Enter your text:')\n",
    "dict={}\n",
    "for c in set(text):\n",
    "    dict[c]=text.count(c)\n",
    "print(dict)\n",
    "    "
   ]
  },
  {
   "cell_type": "code",
   "execution_count": null,
   "id": "cb0655aa",
   "metadata": {},
   "outputs": [],
   "source": []
  }
 ],
 "metadata": {
  "kernelspec": {
   "display_name": "Python 3 (ipykernel)",
   "language": "python",
   "name": "python3"
  },
  "language_info": {
   "codemirror_mode": {
    "name": "ipython",
    "version": 3
   },
   "file_extension": ".py",
   "mimetype": "text/x-python",
   "name": "python",
   "nbconvert_exporter": "python",
   "pygments_lexer": "ipython3",
   "version": "3.11.4"
  }
 },
 "nbformat": 4,
 "nbformat_minor": 5
}
