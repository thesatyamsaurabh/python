{
 "cells": [
  {
   "cell_type": "code",
   "execution_count": null,
   "id": "8dc1f1a7",
   "metadata": {},
   "outputs": [],
   "source": [
    "\n"
   ]
  },
  {
   "cell_type": "code",
   "execution_count": null,
   "id": "9256624d",
   "metadata": {},
   "outputs": [],
   "source": [
    "n=int(input(\"Number of elements\"))\n",
    "list=[]\n",
    "print('Enter your element')\n",
    "for i in range(n):\n",
    "    ele=int(input())\n",
    "    list.append(ele)\n",
    "print(list)\n",
    "list2=[]\n",
    "for i in range(n):\n",
    "    count=0\n",
    "    for j in range(n):\n",
    "        if list[i]==list[j]:\n",
    "            count=count+1\n",
    "    if count==1:\n",
    "        list2.append(list[i])   \n",
    "print(\"Unique element are\")\n",
    "print(list2)\n"
   ]
  },
  {
   "cell_type": "code",
   "execution_count": null,
   "id": "8f91ee55",
   "metadata": {},
   "outputs": [],
   "source": [
    "n=int(input(\"Number of elements\"))\n",
    "list=[]\n",
    "print('Enter your element')\n",
    "for i in range(n):\n",
    "    ele=int(input())\n",
    "    list.append(ele)\n",
    "print(list)\n",
    "for i in range(n):\n",
    "    count=0\n",
    "    r=list[i]\n",
    "    if r <= 1:\n",
    "        continue\n",
    "    else:\n",
    "        for j in range(2,r):\n",
    "            if r%j==0:\n",
    "                count+=1\n",
    "    if count==0:\n",
    "        print(r)\n",
    "        break"
   ]
  },
  {
   "cell_type": "code",
   "execution_count": null,
   "id": "161142f9",
   "metadata": {},
   "outputs": [],
   "source": [
    "\n"
   ]
  }
 ],
 "metadata": {
  "kernelspec": {
   "display_name": "Python 3 (ipykernel)",
   "language": "python",
   "name": "python3"
  },
  "language_info": {
   "codemirror_mode": {
    "name": "ipython",
    "version": 3
   },
   "file_extension": ".py",
   "mimetype": "text/x-python",
   "name": "python",
   "nbconvert_exporter": "python",
   "pygments_lexer": "ipython3",
   "version": "3.11.4"
  }
 },
 "nbformat": 4,
 "nbformat_minor": 5
}
