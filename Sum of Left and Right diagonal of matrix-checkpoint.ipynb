{
 "cells": [
  {
   "cell_type": "code",
   "execution_count": 1,
   "id": "afab3bc0",
   "metadata": {},
   "outputs": [
    {
     "name": "stdout",
     "output_type": "stream",
     "text": [
      "Enter number of rows:2\n",
      "Enter number of columns:2\n",
      "Enter the matrix row wise\n",
      "1\n",
      "5\n",
      "6\n",
      "4\n",
      "1 5 \n",
      "6 4 \n",
      "Right diagonal entries sum: 11\n",
      "left diagonal entries sum: 5\n"
     ]
    }
   ],
   "source": [
    "r=int(input('Enter number of rows:'))\n",
    "c=int(input('Enter number of columns:'))\n",
    "matrix=[]\n",
    "print('Enter the matrix row wise')\n",
    "for i in range(r):\n",
    "    a=[]\n",
    "    for j in range(c):\n",
    "        a.append(int(input()))\n",
    "    matrix.append(a)\n",
    "for i in range(r):\n",
    "    for j in range(c):\n",
    "        print(matrix[i][j],end=' ')\n",
    "    print()\n",
    "sumL=0\n",
    "sumR=0\n",
    "for i in range(len(matrix)):\n",
    "    sumL+=matrix[i][i]\n",
    "    sumR+=matrix[i][-1-i]\n",
    "print('Right diagonal entries sum:',+sumR)\n",
    "print('left diagonal entries sum:',sumL)\n"
   ]
  },
  {
   "cell_type": "code",
   "execution_count": null,
   "id": "17065d80",
   "metadata": {},
   "outputs": [],
   "source": [
    "\n",
    "\n"
   ]
  }
 ],
 "metadata": {
  "kernelspec": {
   "display_name": "Python 3 (ipykernel)",
   "language": "python",
   "name": "python3"
  },
  "language_info": {
   "codemirror_mode": {
    "name": "ipython",
    "version": 3
   },
   "file_extension": ".py",
   "mimetype": "text/x-python",
   "name": "python",
   "nbconvert_exporter": "python",
   "pygments_lexer": "ipython3",
   "version": "3.11.4"
  }
 },
 "nbformat": 4,
 "nbformat_minor": 5
}
