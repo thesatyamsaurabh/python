{
 "cells": [
  {
   "cell_type": "code",
   "execution_count": 8,
   "id": "427271db",
   "metadata": {},
   "outputs": [
    {
     "name": "stdout",
     "output_type": "stream",
     "text": [
      "['lakshami', 'ram', 'shyam']\n"
     ]
    }
   ],
   "source": [
    "def va(s):\n",
    "    return s[-1]\n",
    "L = ['ram', 'shyam', 'lakshami']\n",
    "L.sort(key=va)\n",
    "print(L)"
   ]
  }
 ],
 "metadata": {
  "kernelspec": {
   "display_name": "Python 3 (ipykernel)",
   "language": "python",
   "name": "python3"
  },
  "language_info": {
   "codemirror_mode": {
    "name": "ipython",
    "version": 3
   },
   "file_extension": ".py",
   "mimetype": "text/x-python",
   "name": "python",
   "nbconvert_exporter": "python",
   "pygments_lexer": "ipython3",
   "version": "3.11.4"
  }
 },
 "nbformat": 4,
 "nbformat_minor": 5
}
