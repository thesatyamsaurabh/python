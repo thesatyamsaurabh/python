{
 "cells": [
  {
   "cell_type": "code",
   "execution_count": 1,
   "id": "fe443bd4",
   "metadata": {},
   "outputs": [
    {
     "name": "stdout",
     "output_type": "stream",
     "text": [
      "Enter your text:the joy of computing\n",
      "{'c': 1, 'm': 1, 't': 2, 'e': 1, ' ': 3, 'u': 1, 'n': 1, 'o': 3, 'y': 1, 'j': 1, 'h': 1, 'g': 1, 'i': 1, 'p': 1, 'f': 1}\n"
     ]
    }
   ],
   "source": [
    "text=input('Enter your text:')\n",
    "dict={}\n",
    "for c in set(text):\n",
    "    dict[c]=text.count(c)\n",
    "print(dict)\n",
    "    "
   ]
  },
  {
   "cell_type": "code",
   "execution_count": 1,
   "id": "887e9616",
   "metadata": {},
   "outputs": [
    {
     "name": "stdout",
     "output_type": "stream",
     "text": [
      "Hello Juliet\n",
      "Ecjjm Gsjgcr\n"
     ]
    }
   ],
   "source": []
  },
  {
   "cell_type": "code",
   "execution_count": null,
   "id": "f31de7e2",
   "metadata": {},
   "outputs": [],
   "source": []
  }
 ],
 "metadata": {
  "kernelspec": {
   "display_name": "Python 3 (ipykernel)",
   "language": "python",
   "name": "python3"
  },
  "language_info": {
   "codemirror_mode": {
    "name": "ipython",
    "version": 3
   },
   "file_extension": ".py",
   "mimetype": "text/x-python",
   "name": "python",
   "nbconvert_exporter": "python",
   "pygments_lexer": "ipython3",
   "version": "3.11.4"
  }
 },
 "nbformat": 4,
 "nbformat_minor": 5
}
