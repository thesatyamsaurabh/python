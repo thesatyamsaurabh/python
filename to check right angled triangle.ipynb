{
 "cells": [
  {
   "cell_type": "code",
   "execution_count": 4,
   "id": "c04c42de",
   "metadata": {},
   "outputs": [
    {
     "name": "stdout",
     "output_type": "stream",
     "text": [
      "enter first side4\n",
      "enter second side3\n",
      "enter third side5\n",
      "Right angled triangle\n"
     ]
    }
   ],
   "source": [
    "a=int(input('enter first side'))\n",
    "b=int(input(\"enter second side\"))\n",
    "c=int(input(\"enter third side\"))\n",
    "if (a*a==b*b+c*c) or (b*b==c*c+a*a) or (c*c==b*b+a*a):\n",
    "    print('Right angled triangle')\n",
    "else:\n",
    "    print('Not right angled triangle')\n"
   ]
  },
  {
   "cell_type": "code",
   "execution_count": 16,
   "id": "51ac7b70",
   "metadata": {},
   "outputs": [
    {
     "name": "stdout",
     "output_type": "stream",
     "text": [
      "enter your text:hey#input#bye\n",
      "input#hey#bye\n"
     ]
    }
   ],
   "source": [
    "s=input(\"enter your text:\")\n",
    "text=s.split('#')\n",
    "text.sort(reverse=True)\n",
    "print(\"#\".join(text))\n"
   ]
  },
  {
   "cell_type": "code",
   "execution_count": null,
   "id": "af45f2b9",
   "metadata": {},
   "outputs": [],
   "source": []
  },
  {
   "cell_type": "code",
   "execution_count": null,
   "id": "46fc0796",
   "metadata": {},
   "outputs": [],
   "source": []
  }
 ],
 "metadata": {
  "kernelspec": {
   "display_name": "Python 3 (ipykernel)",
   "language": "python",
   "name": "python3"
  },
  "language_info": {
   "codemirror_mode": {
    "name": "ipython",
    "version": 3
   },
   "file_extension": ".py",
   "mimetype": "text/x-python",
   "name": "python",
   "nbconvert_exporter": "python",
   "pygments_lexer": "ipython3",
   "version": "3.11.4"
  }
 },
 "nbformat": 4,
 "nbformat_minor": 5
}
