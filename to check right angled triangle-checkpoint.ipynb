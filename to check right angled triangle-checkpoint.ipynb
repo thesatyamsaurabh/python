{
 "cells": [
  {
   "cell_type": "code",
   "execution_count": null,
   "id": "f4f5e63f",
   "metadata": {},
   "outputs": [],
   "source": [
    "a=input('enter first side')\n",
    "b=input(\"enter second side\")\n",
    "c=input(\"enter third side\")\n",
    "if (a*a==b*b+c*c) or (b*b==c*c+a*a) or (c*c==b*b+a*a):\n",
    "    print(\"Right angled triangle\")\n",
    "else:\n",
    "    print('Not right angled triangle')\n"
   ]
  },
  {
   "cell_type": "code",
   "execution_count": null,
   "id": "0903efff",
   "metadata": {},
   "outputs": [],
   "source": []
  },
  {
   "cell_type": "code",
   "execution_count": null,
   "id": "c4e462df",
   "metadata": {},
   "outputs": [],
   "source": []
  }
 ],
 "metadata": {
  "kernelspec": {
   "display_name": "Python 3 (ipykernel)",
   "language": "python",
   "name": "python3"
  },
  "language_info": {
   "codemirror_mode": {
    "name": "ipython",
    "version": 3
   },
   "file_extension": ".py",
   "mimetype": "text/x-python",
   "name": "python",
   "nbconvert_exporter": "python",
   "pygments_lexer": "ipython3",
   "version": "3.11.4"
  }
 },
 "nbformat": 4,
 "nbformat_minor": 5
}
