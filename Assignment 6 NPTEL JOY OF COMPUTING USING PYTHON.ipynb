{
 "cells": [
  {
   "cell_type": "code",
   "execution_count": 2,
   "id": "0be8b0eb",
   "metadata": {},
   "outputs": [
    {
     "name": "stdout",
     "output_type": "stream",
     "text": [
      "Number of planet5\n",
      "Enter planet Position\n",
      "1\n",
      "4\n",
      "5\n",
      "3\n",
      "2\n",
      "[1, 4, 5, 3, 2]\n",
      "Position of Aman favourite planet5\n",
      "[1, 2, 3, 4, 5]\n",
      "4\n"
     ]
    }
   ],
   "source": [
    "n=int(input('Number of planet'))\n",
    "list=[]\n",
    "print('Enter planet Position')\n",
    "for i in range(0,n):\n",
    "    ele=int(input())\n",
    "    list.append(ele)\n",
    "print(list)\n",
    "fav=int(input('Position of Aman favourite planet'))\n",
    "list.sort()\n",
    "print(list)\n",
    "print(list.index(fav))"
   ]
  },
  {
   "cell_type": "code",
   "execution_count": null,
   "id": "30bc5f4c",
   "metadata": {},
   "outputs": [],
   "source": []
  }
 ],
 "metadata": {
  "kernelspec": {
   "display_name": "Python 3 (ipykernel)",
   "language": "python",
   "name": "python3"
  },
  "language_info": {
   "codemirror_mode": {
    "name": "ipython",
    "version": 3
   },
   "file_extension": ".py",
   "mimetype": "text/x-python",
   "name": "python",
   "nbconvert_exporter": "python",
   "pygments_lexer": "ipython3",
   "version": "3.11.4"
  }
 },
 "nbformat": 4,
 "nbformat_minor": 5
}
