{
 "cells": [
  {
   "cell_type": "code",
   "execution_count": 1,
   "id": "42445f81",
   "metadata": {},
   "outputs": [
    {
     "ename": "SyntaxError",
     "evalue": "incomplete input (2707892147.py, line 21)",
     "output_type": "error",
     "traceback": [
      "\u001b[1;36m  Cell \u001b[1;32mIn[1], line 21\u001b[1;36m\u001b[0m\n\u001b[1;33m    \u001b[0m\n\u001b[1;37m    ^\u001b[0m\n\u001b[1;31mSyntaxError\u001b[0m\u001b[1;31m:\u001b[0m incomplete input\n"
     ]
    }
   ],
   "source": [
    "flag=1\n",
    "while flag:\n",
    "    print('to check given graph is regular or not')\n",
    "    print(\"1:Complete Graph,Kn\")\n",
    "    print(\"2:cyclic Graph,Cn\")\n",
    "    print(\"3:wheel Graph,Wn\")\n",
    "    print(\"4:path Graph,Pn\")\n",
    "    print(\"5:Complete bipartite Graph,km,n\")\n",
    "    choice=input(\"Enter your choice\")\n",
    "    if choice.strip()==\"1\":\n",
    "        n=int(input(\"Enter the number of vertices:\"))\n",
    "        print(\"Complete Graph of 'n' vertices is regular\")\n",
    "    elif choice.strip()==\"2\":\n",
    "        n=int(input(\"Enter the number of vertices:\"))\n",
    "        if n<=2:\n",
    "            print(\"Cyclic Graph is not possible with 'n' vertices is not possible \")\n",
    "        else:\n",
    "            print(\"Cyclic graph with 'n' vertices is regular \")\n",
    "    elif choice.strip()==\"4\":\n",
    "        \n",
    "    "
   ]
  }
 ],
 "metadata": {
  "kernelspec": {
   "display_name": "Python 3 (ipykernel)",
   "language": "python",
   "name": "python3"
  },
  "language_info": {
   "codemirror_mode": {
    "name": "ipython",
    "version": 3
   },
   "file_extension": ".py",
   "mimetype": "text/x-python",
   "name": "python",
   "nbconvert_exporter": "python",
   "pygments_lexer": "ipython3",
   "version": "3.11.4"
  }
 },
 "nbformat": 4,
 "nbformat_minor": 5
}
